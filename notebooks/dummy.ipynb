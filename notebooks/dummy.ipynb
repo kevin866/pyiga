{
 "cells": [
  {
   "cell_type": "code",
   "execution_count": 2,
   "metadata": {},
   "outputs": [],
   "source": [
    "import matplotlib.pyplot as plt\n",
    "from pyiga.geometry import *\n",
    "from pyiga import approx, bspline\n",
    "import os\n",
    "# %matplotlib inline\n",
    "import scipy\n",
    "from pyiga import bspline, assemble, vform, geometry, vis, solvers\n",
    "import numpy as np\n",
    "import matplotlib.pyplot as plt\n",
    "def cal_c(r, a, L0):\n",
    "    return np.sqrt(2)*np.sqrt(np.pi*(3+3*r**2+2*r)*a*L0)/(np.pi*(3+3*r**2+2*r))\n",
    "def superformula(r, L0, n, a=0.5, d=1, num_res=100):\n",
    "    theta = np.linspace(0, 2 * np.pi, num_res)\n",
    "    c = cal_c(r,a,L0)\n",
    "    return c*((1+r)-d*(-1)**((n+2)/2)*(r-1)*np.cos(n*theta))\n",
    "def polar_to_cartesian(result, theta):\n",
    "    x = result * np.cos(theta)\n",
    "    y = result * np.sin(theta)\n",
    "    return (x,y)\n",
    "\n",
    "\n",
    "\n",
    "\n",
    "\n",
    "\n",
    "# Generate a dataset of superformula points\n",
    "superformula_params = [(round(r, 2), L0, n, (round(a, 2))) for r in np.arange(0.2, 0.9, 0.1).tolist() for L0 in np.arange(15, 35, 5).tolist()\n",
    "                       for n in np.arange(2, 12, 2).tolist() for a in np.arange(0.2, 0.7, 0.1).tolist()]\n",
    "superformula_points = [superformula(*params) for params in superformula_params]"
   ]
  },
  {
   "cell_type": "code",
   "execution_count": 8,
   "metadata": {},
   "outputs": [
    {
     "ename": "TypeError",
     "evalue": "object of type 'numpy.float64' has no len()",
     "output_type": "error",
     "traceback": [
      "\u001b[1;31m---------------------------------------------------------------------------\u001b[0m",
      "\u001b[1;31mTypeError\u001b[0m                                 Traceback (most recent call last)",
      "Cell \u001b[1;32mIn[8], line 1\u001b[0m\n\u001b[1;32m----> 1\u001b[0m \u001b[38;5;28;43mlen\u001b[39;49m\u001b[43m(\u001b[49m\u001b[43msuperformula_points\u001b[49m\u001b[43m[\u001b[49m\u001b[38;5;241;43m0\u001b[39;49m\u001b[43m]\u001b[49m\u001b[43m[\u001b[49m\u001b[38;5;241;43m0\u001b[39;49m\u001b[43m]\u001b[49m\u001b[43m)\u001b[49m\n",
      "\u001b[1;31mTypeError\u001b[0m: object of type 'numpy.float64' has no len()"
     ]
    }
   ],
   "source": [
    "len(superformula_points[0])"
   ]
  },
  {
   "cell_type": "code",
   "execution_count": null,
   "metadata": {},
   "outputs": [],
   "source": []
  }
 ],
 "metadata": {
  "kernelspec": {
   "display_name": ".venv",
   "language": "python",
   "name": "python3"
  },
  "language_info": {
   "codemirror_mode": {
    "name": "ipython",
    "version": 3
   },
   "file_extension": ".py",
   "mimetype": "text/x-python",
   "name": "python",
   "nbconvert_exporter": "python",
   "pygments_lexer": "ipython3",
   "version": "3.8.0"
  }
 },
 "nbformat": 4,
 "nbformat_minor": 2
}
